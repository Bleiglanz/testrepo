{
    "cells": [
        {
            "metadata": {
                "collapsed": true
            },
            "cell_type": "markdown",
            "source": "# My Jupyter Notebook on IBM Watson Studio\n## Coursera: Tools for Data Science\n\nAnton Rechenauer\n100% Human\n\nI'm interested in data science because of mathematics"
        },
        {
            "metadata": {},
            "cell_type": "markdown",
            "source": "## Test of Gauss"
        },
        {
            "metadata": {},
            "cell_type": "code",
            "source": "def gauss(n):\n    return n*(n+1)/2",
            "execution_count": 1,
            "outputs": []
        },
        {
            "metadata": {},
            "cell_type": "code",
            "source": "gauss(100)==sum(range(101))",
            "execution_count": 3,
            "outputs": [
                {
                    "output_type": "execute_result",
                    "execution_count": 3,
                    "data": {
                        "text/plain": "True"
                    },
                    "metadata": {}
                }
            ]
        },
        {
            "metadata": {},
            "cell_type": "code",
            "source": "5050==gauss(100)",
            "execution_count": 4,
            "outputs": [
                {
                    "output_type": "execute_result",
                    "execution_count": 4,
                    "data": {
                        "text/plain": "True"
                    },
                    "metadata": {}
                }
            ]
        },
        {
            "metadata": {},
            "cell_type": "markdown",
            "source": "- one\n- two\n- three\n- what are you looking, four\n"
        },
        {
            "metadata": {},
            "cell_type": "markdown",
            "source": "| Markdown    | Less        | Pretty |\n| ----------- | ----------- |--------|\n| *Still*     | `renders`   |**nicely**|\n| 1  | 2       |    3    |"
        },
        {
            "metadata": {},
            "cell_type": "markdown",
            "source": "<a href='https://www.ibm.com'>www.ibm.com</a>"
        },
        {
            "metadata": {},
            "cell_type": "code",
            "source": "",
            "execution_count": null,
            "outputs": []
        }
    ],
    "metadata": {
        "kernelspec": {
            "name": "python3",
            "display_name": "Python 3.9",
            "language": "python"
        },
        "language_info": {
            "name": "python",
            "version": "3.9.7",
            "mimetype": "text/x-python",
            "codemirror_mode": {
                "name": "ipython",
                "version": 3
            },
            "pygments_lexer": "ipython3",
            "nbconvert_exporter": "python",
            "file_extension": ".py"
        }
    },
    "nbformat": 4,
    "nbformat_minor": 1
}